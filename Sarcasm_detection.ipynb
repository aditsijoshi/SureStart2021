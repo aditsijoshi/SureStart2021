{
  "nbformat": 4,
  "nbformat_minor": 0,
  "metadata": {
    "colab": {
      "name": "Sarcasm_detection.ipynb",
      "provenance": [],
      "include_colab_link": true
    },
    "kernelspec": {
      "name": "python3",
      "display_name": "Python 3"
    },
    "accelerator": "GPU"
  },
  "cells": [
    {
      "cell_type": "markdown",
      "metadata": {
        "id": "view-in-github",
        "colab_type": "text"
      },
      "source": [
        "<a href=\"https://colab.research.google.com/github/aditsijoshi/SureStart2021/blob/main/Sarcasm_detection.ipynb\" target=\"_parent\"><img src=\"https://colab.research.google.com/assets/colab-badge.svg\" alt=\"Open In Colab\"/></a>"
      ]
    },
    {
      "cell_type": "markdown",
      "metadata": {
        "id": "Hixi43o_gEXH"
      },
      "source": [
        "@article{misra2019sarcasm,\r\n",
        "  title={Sarcasm Detection using Hybrid Neural Network},\r\n",
        "  author={Misra, Rishabh and Arora, Prahal},\r\n",
        "  journal={arXiv preprint arXiv:1908.07414},\r\n",
        "  year={2019}\r\n",
        "}\r\n",
        "\r\n",
        "@book{book,\r\n",
        "author = {Misra, Rishabh and Grover, Jigyasa},\r\n",
        "year = {2021},\r\n",
        "month = {01},\r\n",
        "pages = {},\r\n",
        "title = {Sculpting Data for ML: The first act of Machine Learning},\r\n",
        "isbn = {978-0-578-83125-1}\r\n",
        "}"
      ]
    },
    {
      "cell_type": "markdown",
      "metadata": {
        "id": "thVkC-S3gYZl"
      },
      "source": [
        "Quick notes about the algorithm below:\r\n",
        "- tokenizer assigns each word in a sentence with an id\r\n",
        "- embedding - is to representing natural language with FP numbers\r\n",
        "- lstm - backbone of midel- used for sequences like sentences - long short term memory\r\n",
        "- activation function for dense layers relu excpet of last layer excpet \r\n",
        "- model will learn patterns in data in dense- do not want to overfit \r\n",
        "- usually the number of paramemters are decreased\r\n",
        "- loss function measures how well the model is learning\r\n"
      ]
    },
    {
      "cell_type": "markdown",
      "metadata": {
        "id": "EebhUN2IgqKB"
      },
      "source": [
        "General Steps for future data processing algorithms:\r\n",
        "- unzip, load data\r\n",
        "- put in table form (pre-processing)\r\n",
        "- np is just to put in array format\r\n",
        "- tensor flow is for DL\r\n",
        "- images would not need embedding\r\n",
        "- sigmoid activation is for binary decisions\r\n"
      ]
    },
    {
      "cell_type": "code",
      "metadata": {
        "colab": {
          "base_uri": "https://localhost:8080/"
        },
        "id": "CeA9oVy3el6m",
        "outputId": "5c66f7d4-6847-4c3e-ed2a-9c0d3107b47c"
      },
      "source": [
        "import json\r\n",
        "\r\n",
        "# reading data\r\n",
        "def parse_data(file):\r\n",
        "    for l in open(file,'r'):\r\n",
        "        yield json.loads(l)\r\n",
        "\r\n",
        "# intializes a list called data to store data\r\n",
        "data = list(parse_data('/content/Sarcasm_Headlines_Dataset_v2.json'))\r\n",
        "print(data[0])"
      ],
      "execution_count": 2,
      "outputs": [
        {
          "output_type": "stream",
          "text": [
            "{'is_sarcastic': 1, 'headline': 'thirtysomething scientists unveil doomsday clock of hair loss', 'article_link': 'https://www.theonion.com/thirtysomething-scientists-unveil-doomsday-clock-of-hai-1819586205'}\n"
          ],
          "name": "stdout"
        }
      ]
    },
    {
      "cell_type": "code",
      "metadata": {
        "colab": {
          "base_uri": "https://localhost:8080/"
        },
        "id": "cUs9vEZak3vL",
        "outputId": "c33b4fdb-9802-4fe0-9c28-cb76a611d6d9"
      },
      "source": [
        "# imports pandas database\r\n",
        "import pandas as pd\r\n",
        "\r\n",
        "# intializes pandas dataframe to store data\r\n",
        "df = pd.DataFrame(data)\r\n",
        "print(df.head())"
      ],
      "execution_count": 3,
      "outputs": [
        {
          "output_type": "stream",
          "text": [
            "   is_sarcastic  ...                                       article_link\n",
            "0             1  ...  https://www.theonion.com/thirtysomething-scien...\n",
            "1             0  ...  https://www.huffingtonpost.com/entry/donna-edw...\n",
            "2             0  ...  https://www.huffingtonpost.com/entry/eat-your-...\n",
            "3             1  ...  https://local.theonion.com/inclement-weather-p...\n",
            "4             1  ...  https://www.theonion.com/mother-comes-pretty-c...\n",
            "\n",
            "[5 rows x 3 columns]\n"
          ],
          "name": "stdout"
        }
      ]
    },
    {
      "cell_type": "code",
      "metadata": {
        "id": "AzZSBAwDU8f5"
      },
      "source": [
        "from sklearn.model_selection import train_test_split\r\n",
        "import sklearn\r\n",
        "import tensorflow as tf\r\n",
        "from tensorflow.keras.preprocessing.text import Tokenizer\r\n",
        "from tensorflow.keras.preprocessing import sequence\r\n",
        "import numpy as np"
      ],
      "execution_count": 4,
      "outputs": []
    },
    {
      "cell_type": "code",
      "metadata": {
        "colab": {
          "base_uri": "https://localhost:8080/"
        },
        "id": "VsJ18F1Tfc4-",
        "outputId": "d9aa1e9c-a887-44e6-c5b6-da30545195c5"
      },
      "source": [
        "# initlaizes input and output values\r\n",
        "x = df['headline'].values\r\n",
        "y = df['is_sarcastic'].values\r\n",
        "\r\n",
        "# splits data into training and testing groups\r\n",
        "x_train, x_test, y_train, y_test = train_test_split(x, y, test_size=0.30)\r\n",
        "x_test, x_validate, y_test, y_validate = train_test_split(x_test, y_test, test_size=0.50)\r\n",
        "\r\n",
        "# prints shape of data\r\n",
        "print(x_train.shape, x_test.shape, x_validate.shape, y_train.shape, y_test.shape, y_validate.shape)"
      ],
      "execution_count": 5,
      "outputs": [
        {
          "output_type": "stream",
          "text": [
            "(20033,) (4293,) (4293,) (20033,) (4293,) (4293,)\n"
          ],
          "name": "stdout"
        }
      ]
    },
    {
      "cell_type": "code",
      "metadata": {
        "id": "2o4_ZlVYU3mO"
      },
      "source": [
        "tokenizer = Tokenizer(oov_token=\"<OOV>\")\r\n",
        "tokenizer.fit_on_texts(x_train) \r\n",
        "\r\n",
        "word_index = tokenizer.word_index\r\n",
        "\r\n",
        "training_sequences = tokenizer.texts_to_sequences(x_train)\r\n",
        "max_sequence_train = max(len(x) for x in training_sequences)\r\n",
        "training_padded = np.array([np.pad(x, (0, max_sequence_train - len(x))) for x in training_sequences])\r\n",
        "#training_padded = sequence.pad_sequences(training_sequences, maxlen=100, padding=\"post\", truncating=\"post\")\r\n",
        "\r\n",
        "val_sequences = tokenizer.texts_to_sequences(x_validate)\r\n",
        "max_sequence_val = max(len(x) for x in val_sequences)\r\n",
        "val_padded = np.array([np.pad(x, (0, max_sequence_val - len(x))) for x in val_sequences])\r\n",
        "#val_padded = sequence.pad_sequences(val_sequences, maxlen=100, padding=\"post\", truncating=\"post\")\r\n",
        "\r\n",
        "testing_sequences = tokenizer.texts_to_sequences(x_test)\r\n",
        "max_sequence_test = max(len(x) for x in testing_sequences)\r\n",
        "testing_padded = np.array([np.pad(x, (0, max_sequence_test - len(x))) for x in testing_sequences])\r\n",
        "#testing_padded = sequence.pad_sequences(testing_sequences, maxlen=100, padding=\"post\", truncating=\"post\")\r\n"
      ],
      "execution_count": 6,
      "outputs": []
    },
    {
      "cell_type": "code",
      "metadata": {
        "id": "j8fnfOweU1EG"
      },
      "source": [
        "training_padded = np.array(training_padded)\r\n",
        "val_padded = np.array(val_padded)\r\n",
        "testing_padded = np.array(testing_padded)\r\n",
        "y_test = np.array(y_test)"
      ],
      "execution_count": 7,
      "outputs": []
    },
    {
      "cell_type": "code",
      "metadata": {
        "colab": {
          "base_uri": "https://localhost:8080/"
        },
        "id": "x8dEYC0fU0yn",
        "outputId": "e6518245-9072-4220-9741-2ac02379ce59"
      },
      "source": [
        "model = tf.keras.models.Sequential([\r\n",
        "        tf.keras.layers.Embedding(len(word_index) + 1, 2, input_shape=[None]),\r\n",
        "        tf.keras.layers.LSTM(50, return_sequences=False),\r\n",
        "        tf.keras.layers.Dense(25, activation=\"relu\"),\r\n",
        "        tf.keras.layers.Dense(10, activation=\"relu\"),\r\n",
        "        tf.keras.layers.Dense(5, activation=\"relu\"),\r\n",
        "        tf.keras.layers.Dense(1, activation='sigmoid')\r\n",
        "])\r\n",
        "\r\n",
        "model.summary()"
      ],
      "execution_count": 8,
      "outputs": [
        {
          "output_type": "stream",
          "text": [
            "Model: \"sequential\"\n",
            "_________________________________________________________________\n",
            "Layer (type)                 Output Shape              Param #   \n",
            "=================================================================\n",
            "embedding (Embedding)        (None, None, 2)           51778     \n",
            "_________________________________________________________________\n",
            "lstm (LSTM)                  (None, 50)                10600     \n",
            "_________________________________________________________________\n",
            "dense (Dense)                (None, 25)                1275      \n",
            "_________________________________________________________________\n",
            "dense_1 (Dense)              (None, 10)                260       \n",
            "_________________________________________________________________\n",
            "dense_2 (Dense)              (None, 5)                 55        \n",
            "_________________________________________________________________\n",
            "dense_3 (Dense)              (None, 1)                 6         \n",
            "=================================================================\n",
            "Total params: 63,974\n",
            "Trainable params: 63,974\n",
            "Non-trainable params: 0\n",
            "_________________________________________________________________\n"
          ],
          "name": "stdout"
        }
      ]
    },
    {
      "cell_type": "code",
      "metadata": {
        "id": "YgBP_zKJxNzn",
        "colab": {
          "base_uri": "https://localhost:8080/"
        },
        "outputId": "a302b06c-a474-4cab-8d9d-ba3c60fa81a8"
      },
      "source": [
        "# try with various optimizer and loss algorithms\r\n",
        "# (SGD, MSE, 56), (Adam, MSE, 93), (Adam, BC, 97)\r\n",
        "model.compile(optimizer='Adam', loss='BinaryCrossentropy', metrics=['accuracy'])\r\n",
        "\r\n",
        "history = model.fit(training_padded, y_train, validation_data=(val_padded, y_validate), \r\n",
        "          epochs=15, verbose=1)"
      ],
      "execution_count": null,
      "outputs": [
        {
          "output_type": "stream",
          "text": [
            "Epoch 1/15\n",
            "627/627 [==============================] - 13s 10ms/step - loss: 0.6921 - accuracy: 0.5229 - val_loss: 0.6928 - val_accuracy: 0.5246\n",
            "Epoch 2/15\n",
            "627/627 [==============================] - 6s 9ms/step - loss: 0.6926 - accuracy: 0.5170 - val_loss: 0.6919 - val_accuracy: 0.5246\n",
            "Epoch 3/15\n",
            "627/627 [==============================] - 6s 9ms/step - loss: 0.6913 - accuracy: 0.5306 - val_loss: 0.6920 - val_accuracy: 0.5246\n",
            "Epoch 4/15\n",
            "360/627 [================>.............] - ETA: 2s - loss: 0.6926 - accuracy: 0.5164"
          ],
          "name": "stdout"
        }
      ]
    },
    {
      "cell_type": "code",
      "metadata": {
        "colab": {
          "base_uri": "https://localhost:8080/"
        },
        "id": "7rckRo_igf1o",
        "outputId": "0e7abdb7-3fd7-4494-fe42-2afd057fe600"
      },
      "source": [
        "results = model.evaluate(testing_padded, y_test)\r\n",
        "print(\"test loss, test acc:\", results)\r\n",
        "\r\n",
        "predictions = model.predict(testing_padded)\r\n",
        "predictions = np.argmax(predictions, axis=1)\r\n",
        "\r\n",
        "#print(predictions)\r\n",
        "\r\n",
        "# I don't understand why this line of code does not work\r\n",
        "print(sklearn.metrics.accuracy_score(y_test, predictions, normalize=True))"
      ],
      "execution_count": null,
      "outputs": [
        {
          "output_type": "stream",
          "text": [
            "126/126 [==============================] - 1s 3ms/step - loss: 0.5739 - accuracy: 0.7401\n",
            "test loss, test acc: [0.5739380717277527, 0.7401397824287415]\n",
            "0.5579131303045431\n"
          ],
          "name": "stdout"
        }
      ]
    },
    {
      "cell_type": "code",
      "metadata": {
        "colab": {
          "base_uri": "https://localhost:8080/",
          "height": 541
        },
        "id": "9lVFhArmmYXo",
        "outputId": "8f265a93-bb62-431a-cbd0-c56500e35f32"
      },
      "source": [
        "import matplotlib.pyplot as plt\r\n",
        "\r\n",
        "def plot_data(model_history, string):\r\n",
        "    plt.plot(history.history[string])\r\n",
        "    plt.plot(history.history['val_'+string])\r\n",
        "    plt.xlabel(\"Epochs\")\r\n",
        "    plt.ylabel(string)\r\n",
        "    plt.legend([string, 'val_'+string])\r\n",
        "    plt.show()\r\n",
        "  \r\n",
        "plot_data(history, \"accuracy\")\r\n",
        "plot_data(history, \"loss\")\r\n"
      ],
      "execution_count": null,
      "outputs": [
        {
          "output_type": "display_data",
          "data": {
            "image/png": "[encoded data removed]",
            "text/plain": [
              "<Figure size 432x288 with 1 Axes>"
            ]
          },
          "metadata": {
            "tags": [],
            "needs_background": "light"
          }
        },
        {
          "output_type": "display_data",
          "data": {
            "image/png": "[encoded data removed]",
            "text/plain": [
              "<Figure size 432x288 with 1 Axes>"
            ]
          },
          "metadata": {
            "tags": [],
            "needs_background": "light"
          }
        }
      ]
    }
  ]
}